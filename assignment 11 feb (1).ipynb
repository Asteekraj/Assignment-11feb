{
 "cells": [
  {
   "cell_type": "markdown",
   "id": "51a0eea8-9319-4a82-bc0c-b04b2c6865a8",
   "metadata": {},
   "source": [
    "Q1. Which function is used to open a file? What are the different modes of opening a file? Explain each mode\n",
    "of file opening."
   ]
  },
  {
   "cell_type": "markdown",
   "id": "d6c992a1-5e1d-4024-8166-4179ddd59c52",
   "metadata": {},
   "source": [
    "Ans)- Using 'open' function file can be open as well as we can use 'with open' funtion."
   ]
  },
  {
   "cell_type": "code",
   "execution_count": 29,
   "id": "c72a5d0d-4ce1-4b3d-8f75-d96ece6098c6",
   "metadata": {},
   "outputs": [
    {
     "ename": "SyntaxError",
     "evalue": "invalid syntax (2921712203.py, line 1)",
     "output_type": "error",
     "traceback": [
      "\u001b[0;36m  Cell \u001b[0;32mIn[29], line 1\u001b[0;36m\u001b[0m\n\u001b[0;31m    Modes of opening files :\u001b[0m\n\u001b[0m          ^\u001b[0m\n\u001b[0;31mSyntaxError\u001b[0m\u001b[0;31m:\u001b[0m invalid syntax\n"
     ]
    }
   ],
   "source": [
    "Modes of opening files : \n",
    "r\tOpen a file for reading. (default)\n",
    "w\tOpen a file for writing. Creates a new file if it does not exist or truncates the file if it exists.\n",
    "x\tOpen a file for exclusive creation. If the file already exists, the operation fails.\n",
    "a\tOpen a file for appending at the end of the file without truncating it. Creates a new file if it does not exist.\n",
    "t\tOpen in text mode. (default)\n",
    "b\tOpen in binary mode.\n",
    "+\tOpen a file for updating (reading and writing)"
   ]
  },
  {
   "cell_type": "markdown",
   "id": "dc21695e-7468-4579-a52a-60223813e630",
   "metadata": {},
   "source": [
    "Q2. Why close() function is used? Why is it important to close a file?"
   ]
  },
  {
   "cell_type": "markdown",
   "id": "e51f7151-c01e-41f8-9ad2-d90f7a5807ef",
   "metadata": {},
   "source": [
    "Ans)- close() function is used to close the file. Closing of file is very important because without closing the data stored in file can't be seen."
   ]
  },
  {
   "cell_type": "markdown",
   "id": "e1e7c205-e36d-49c0-9661-b17450c0eb91",
   "metadata": {},
   "source": [
    "Q3. Write a python program to create a text file. Write ‘I want to become a Data Scientist’ in that file. Then\n",
    "close the file. Open this file and read the content of the file."
   ]
  },
  {
   "cell_type": "code",
   "execution_count": 2,
   "id": "2a9c8ed0-33f7-4e52-a27b-ff36e1449b1c",
   "metadata": {},
   "outputs": [],
   "source": [
    "with open (\"text.txt\",\"w\") as f :\n",
    "    f.write('I want to become a Data Scientist')"
   ]
  },
  {
   "cell_type": "code",
   "execution_count": 3,
   "id": "05082191-90cb-438b-a50e-8d16d1c84a04",
   "metadata": {},
   "outputs": [],
   "source": [
    "f.close()"
   ]
  },
  {
   "cell_type": "code",
   "execution_count": 4,
   "id": "d856df1f-fd99-4e27-948a-e30eb97abfa6",
   "metadata": {},
   "outputs": [],
   "source": [
    "f = open(\"text.txt\",\"r\")"
   ]
  },
  {
   "cell_type": "code",
   "execution_count": 5,
   "id": "0129caa6-ff20-4a20-a1ad-1a0fc5cb5a7f",
   "metadata": {},
   "outputs": [
    {
     "data": {
      "text/plain": [
       "'I want to become a Data Scientist'"
      ]
     },
     "execution_count": 5,
     "metadata": {},
     "output_type": "execute_result"
    }
   ],
   "source": [
    "f.read()"
   ]
  },
  {
   "cell_type": "markdown",
   "id": "76b1bfb1-c962-446b-9589-17a74cb9dcd3",
   "metadata": {},
   "source": [
    "Q4. Explain the following with python code: read(), readline() and readlines()."
   ]
  },
  {
   "cell_type": "code",
   "execution_count": 16,
   "id": "043f6401-695b-4161-80d8-3c503a4377a6",
   "metadata": {},
   "outputs": [],
   "source": [
    "with open (\"file.txt\",\"w\") as f:\n",
    "    f.write(\"Python readline() method will return a line from the file when called. readlines() method will return all the lines in a file in the format of a list where each element is a line in the file.\")"
   ]
  },
  {
   "cell_type": "code",
   "execution_count": 20,
   "id": "72a972b9-cbba-4398-867a-4ee497aaa1b0",
   "metadata": {},
   "outputs": [],
   "source": [
    "f.close()"
   ]
  },
  {
   "cell_type": "code",
   "execution_count": 21,
   "id": "b35d5902-d4be-4a94-914f-45fbf8a28dea",
   "metadata": {},
   "outputs": [],
   "source": [
    "f = open(\"file.txt\",\"r\")\n"
   ]
  },
  {
   "cell_type": "code",
   "execution_count": 22,
   "id": "421500be-a797-4304-84bc-533662060ce9",
   "metadata": {},
   "outputs": [
    {
     "data": {
      "text/plain": [
       "'Python readline() method will return a line from the file when called. readlines() method will return all the lines in a file in the format of a list where each element is a line in the file.'"
      ]
     },
     "execution_count": 22,
     "metadata": {},
     "output_type": "execute_result"
    }
   ],
   "source": [
    "f.read()"
   ]
  },
  {
   "cell_type": "code",
   "execution_count": 23,
   "id": "40f26ae2-31ff-4fbb-a923-1ea4fb10909f",
   "metadata": {},
   "outputs": [
    {
     "data": {
      "text/plain": [
       "''"
      ]
     },
     "execution_count": 23,
     "metadata": {},
     "output_type": "execute_result"
    }
   ],
   "source": [
    "f.readline()"
   ]
  },
  {
   "cell_type": "code",
   "execution_count": 24,
   "id": "0fec300d-b1a2-4c4c-bf79-37f986711e2f",
   "metadata": {},
   "outputs": [
    {
     "data": {
      "text/plain": [
       "0"
      ]
     },
     "execution_count": 24,
     "metadata": {},
     "output_type": "execute_result"
    }
   ],
   "source": [
    "f.seek(0)"
   ]
  },
  {
   "cell_type": "code",
   "execution_count": 25,
   "id": "847a9421-b3cf-4464-9b3f-fc83dd34baec",
   "metadata": {},
   "outputs": [
    {
     "data": {
      "text/plain": [
       "'Python readline() method will return a line from the file when called. readlines() method will return all the lines in a file in the format of a list where each element is a line in the file.'"
      ]
     },
     "execution_count": 25,
     "metadata": {},
     "output_type": "execute_result"
    }
   ],
   "source": [
    "f.readline()"
   ]
  },
  {
   "cell_type": "code",
   "execution_count": 26,
   "id": "20f01830-fb08-45eb-ad69-1c6eebf1cbcf",
   "metadata": {},
   "outputs": [
    {
     "data": {
      "text/plain": [
       "[]"
      ]
     },
     "execution_count": 26,
     "metadata": {},
     "output_type": "execute_result"
    }
   ],
   "source": [
    "f.readlines()"
   ]
  },
  {
   "cell_type": "code",
   "execution_count": 27,
   "id": "cceab5c9-3d02-47cf-b274-7925aa56902f",
   "metadata": {},
   "outputs": [
    {
     "data": {
      "text/plain": [
       "0"
      ]
     },
     "execution_count": 27,
     "metadata": {},
     "output_type": "execute_result"
    }
   ],
   "source": [
    "f.seek(0)"
   ]
  },
  {
   "cell_type": "code",
   "execution_count": 28,
   "id": "a2c8267b-51f2-4cfb-8fb0-372afd4cd02a",
   "metadata": {},
   "outputs": [
    {
     "data": {
      "text/plain": [
       "['Python readline() method will return a line from the file when called. readlines() method will return all the lines in a file in the format of a list where each element is a line in the file.']"
      ]
     },
     "execution_count": 28,
     "metadata": {},
     "output_type": "execute_result"
    }
   ],
   "source": [
    "f.readlines()"
   ]
  },
  {
   "cell_type": "markdown",
   "id": "a071c222-eb25-4577-8f5f-4827a0713ee2",
   "metadata": {},
   "source": [
    "Q5. Explain why with statement is used with open(). What is the advantage of using with statement and\n",
    "open() together?"
   ]
  },
  {
   "cell_type": "markdown",
   "id": "ac068f60-ff48-46c2-a0f0-baa61ccff054",
   "metadata": {},
   "source": [
    "Ans)- The with statement works with the open() function to open a file. Unlike open() where you have to close the file with the close() method, the with statement closes the file for you without you telling it to. This is because the with statement calls 2 built-in methods behind the scene – __enter()__ and __exit()__ ."
   ]
  },
  {
   "cell_type": "markdown",
   "id": "e1aa70ec-c711-4eab-a931-9beb78e6969d",
   "metadata": {},
   "source": [
    "\n",
    "Q6. Explain the write() and writelines() functions. Give a suitable example."
   ]
  },
  {
   "cell_type": "markdown",
   "id": "50fe0505-4114-4f06-9647-843e3bb5364f",
   "metadata": {},
   "source": [
    "The write() function will write the content in the file without adding any extra characters."
   ]
  },
  {
   "cell_type": "markdown",
   "id": "26df55f3-af42-49ae-8a42-a709188988c5",
   "metadata": {},
   "source": [
    "The function writelines() writes the content of a list to a file."
   ]
  },
  {
   "cell_type": "code",
   "execution_count": null,
   "id": "f926e28d-d927-4d66-b7e5-0973118b4e45",
   "metadata": {},
   "outputs": [],
   "source": []
  }
 ],
 "metadata": {
  "kernelspec": {
   "display_name": "Python 3 (ipykernel)",
   "language": "python",
   "name": "python3"
  },
  "language_info": {
   "codemirror_mode": {
    "name": "ipython",
    "version": 3
   },
   "file_extension": ".py",
   "mimetype": "text/x-python",
   "name": "python",
   "nbconvert_exporter": "python",
   "pygments_lexer": "ipython3",
   "version": "3.10.8"
  }
 },
 "nbformat": 4,
 "nbformat_minor": 5
}
